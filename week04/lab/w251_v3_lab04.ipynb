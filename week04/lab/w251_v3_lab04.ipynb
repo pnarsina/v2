{
  "nbformat": 4,
  "nbformat_minor": 0,
  "metadata": {
    "colab": {
      "name": "w251_v3_lab04.ipynb",
      "provenance": [],
      "collapsed_sections": []
    },
    "kernelspec": {
      "name": "python3",
      "display_name": "Python 3"
    },
    "language_info": {
      "name": "python"
    }
  },
  "cells": [
    {
      "cell_type": "markdown",
      "metadata": {
        "id": "p0Ej9327K46p"
      },
      "source": [
        "In this lab we will experiment with some of the deep learning concepts covered in the async material, and beyond. "
      ]
    },
    {
      "cell_type": "code",
      "metadata": {
        "colab": {
          "base_uri": "https://localhost:8080/"
        },
        "id": "9eefV8lZLPts",
        "outputId": "54c27bfc-a94b-4f9d-b3a7-43b9420c829f"
      },
      "source": [
        "# Import necessary packages. \n",
        "import torch, torch.nn as nn\n",
        "from PIL import Image\n",
        "torch.manual_seed(1)"
      ],
      "execution_count": 2,
      "outputs": [
        {
          "output_type": "execute_result",
          "data": {
            "text/plain": [
              "<torch._C.Generator at 0x7fd7ca596790>"
            ]
          },
          "metadata": {
            "tags": []
          },
          "execution_count": 2
        }
      ]
    },
    {
      "cell_type": "markdown",
      "metadata": {
        "id": "g2zGYLpWRwPc"
      },
      "source": [
        "### MSE Loss"
      ]
    },
    {
      "cell_type": "code",
      "metadata": {
        "colab": {
          "base_uri": "https://localhost:8080/"
        },
        "id": "v6U5hq8rL8g3",
        "outputId": "4c78add3-7050-414e-dd35-829db692aac7"
      },
      "source": [
        "ypred = torch.arange(-5, 5).float()\n",
        "yact = torch.randint(2, (len(ypred),)).float()\n",
        "print(f'Dummy predicted values : {ypred}')\n",
        "print(f'Dummy actual values : {yact}')"
      ],
      "execution_count": 3,
      "outputs": [
        {
          "output_type": "stream",
          "text": [
            "Dummy predicted values : tensor([-5., -4., -3., -2., -1.,  0.,  1.,  2.,  3.,  4.])\n",
            "Dummy actual values : tensor([1., 1., 0., 0., 1., 1., 1., 1., 1., 0.])\n"
          ],
          "name": "stdout"
        }
      ]
    },
    {
      "cell_type": "code",
      "metadata": {
        "colab": {
          "base_uri": "https://localhost:8080/"
        },
        "id": "kWOJdMGOQipr",
        "outputId": "1ebe085f-c2a3-4a76-b9df-be4c0d468754"
      },
      "source": [
        "criterion = torch.nn.MSELoss(reduction='none')\n",
        "loss = criterion(ypred, yact)\n",
        "print(f'MSE loss for each element {loss}')\n",
        "criterion = torch.nn.MSELoss(reduction='mean')\n",
        "loss = criterion(ypred, yact)\n",
        "print(f'MSE loss averaged {loss:.5f}')"
      ],
      "execution_count": 4,
      "outputs": [
        {
          "output_type": "stream",
          "text": [
            "MSE loss for each element tensor([36., 25.,  9.,  4.,  4.,  1.,  0.,  1.,  4., 16.])\n",
            "MSE loss averaged 10.00000\n"
          ],
          "name": "stdout"
        }
      ]
    },
    {
      "cell_type": "markdown",
      "metadata": {
        "id": "jdaVQIjrRyDv"
      },
      "source": [
        "### Binary Cross Entropy Loss"
      ]
    },
    {
      "cell_type": "code",
      "metadata": {
        "colab": {
          "base_uri": "https://localhost:8080/"
        },
        "id": "5d2sa3zaR298",
        "outputId": "1d971414-d568-4beb-e5ce-0399bb554939"
      },
      "source": [
        "ypred = torch.rand(10).float()\n",
        "yact = torch.randint(2, (len(ypred),)).float()\n",
        "print(f'Dummy predicted values : {ypred}')\n",
        "print(f'Dummy actual values : {yact}')"
      ],
      "execution_count": 5,
      "outputs": [
        {
          "output_type": "stream",
          "text": [
            "Dummy predicted values : tensor([0.6387, 0.5247, 0.6826, 0.3051, 0.4635, 0.4550, 0.5725, 0.4980, 0.9371,\n",
            "        0.6556])\n",
            "Dummy actual values : tensor([0., 1., 0., 0., 1., 0., 0., 0., 1., 0.])\n"
          ],
          "name": "stdout"
        }
      ]
    },
    {
      "cell_type": "markdown",
      "metadata": {
        "id": "ajQhLBkb1HhS"
      },
      "source": [
        "Find the Binary Cross Entropy loss between the two vectors.\n",
        "You can find the loss functions [here](https://pytorch.org/docs/stable/nn.html).  \n"
      ]
    },
    {
      "cell_type": "code",
      "metadata": {
        "id": "GwAbwAr81tOZ",
        "colab": {
          "base_uri": "https://localhost:8080/"
        },
        "outputId": "6c71f47e-046d-4ea6-99a0-3e7d054b6fc4"
      },
      "source": [
        "# Binaray Cross entropy loss....\n",
        "criterion = torch.nn.BCELoss(reduction='none')\n",
        "loss = criterion(ypred, yact)\n",
        "print(f'BCE loss for each element {loss}')\n",
        "criterion = torch.nn.BCELoss(reduction='mean')\n",
        "loss = criterion(ypred, yact)\n",
        "print(f'BCE loss averaged {loss:.5f}')\n"
      ],
      "execution_count": 7,
      "outputs": [
        {
          "output_type": "stream",
          "text": [
            "BCE loss for each element tensor([1.0180, 0.6450, 1.1476, 0.3641, 0.7689, 0.6069, 0.8497, 0.6892, 0.0650,\n",
            "        1.0659])\n",
            "BCE loss averaged 0.72203\n"
          ],
          "name": "stdout"
        }
      ]
    },
    {
      "cell_type": "markdown",
      "metadata": {
        "id": "wjZGDAri1zFc"
      },
      "source": [
        "### Multi Layer Perceptron Forward Pass"
      ]
    },
    {
      "cell_type": "code",
      "metadata": {
        "id": "v5D0uaGV2h-M"
      },
      "source": [
        "# Lets initialise a MLP \n",
        "class MLP(nn.Module):\n",
        "    def __init__(self):\n",
        "        super(MLP, self).__init__()\n",
        "        self.layers = nn.Sequential(\n",
        "            nn.Linear(2, 2, bias = False), \n",
        "            nn.Linear(2, 1, bias = False))\n",
        "    def forward(self, x):\n",
        "        return self.layers(x)"
      ],
      "execution_count": 8,
      "outputs": []
    },
    {
      "cell_type": "code",
      "metadata": {
        "id": "azBaCsap3Me8"
      },
      "source": [
        "net1 = MLP()\n",
        "x = torch.rand(2).float()\n",
        "with torch.no_grad(): out = net1(x)"
      ],
      "execution_count": 9,
      "outputs": []
    },
    {
      "cell_type": "code",
      "metadata": {
        "colab": {
          "base_uri": "https://localhost:8080/"
        },
        "id": "iwvD7e1f4e7P",
        "outputId": "7d694aeb-7c96-4a3b-dffb-6e76f751b6f8"
      },
      "source": [
        "print(f'Input to net : {x}')\n",
        "print('-'*50)\n",
        "print(f'Layer 0 parameters {net1.layers[0].weight}')\n",
        "print(f'Layer 1 parameters {net1.layers[1].weight}')\n",
        "print('-'*50)\n",
        "print(f'Output : {out}')"
      ],
      "execution_count": 10,
      "outputs": [
        {
          "output_type": "stream",
          "text": [
            "Input to net : tensor([0.9391, 0.4167])\n",
            "--------------------------------------------------\n",
            "Layer 0 parameters Parameter containing:\n",
            "tensor([[ 0.1975,  0.6707],\n",
            "        [ 0.4667, -0.6443]], requires_grad=True)\n",
            "Layer 1 parameters Parameter containing:\n",
            "tensor([[-0.6723, -0.3411]], requires_grad=True)\n",
            "--------------------------------------------------\n",
            "Output : tensor([-0.3705])\n"
          ],
          "name": "stdout"
        }
      ]
    },
    {
      "cell_type": "markdown",
      "metadata": {
        "id": "UU-GjDpj9QDf"
      },
      "source": [
        "Can you calculate through matrix multiplication ?   \n",
        "Tip, you can use the torch.matmul function to multiply matrices, or alternatively check [this](https://stackoverflow.com/questions/60275705/how-to-calculate-a-forward-pass-with-matrix-operations-in-pytorch) link for calculating a forward pass. "
      ]
    },
    {
      "cell_type": "code",
      "metadata": {
        "id": "FWqHluq87YM-",
        "colab": {
          "base_uri": "https://localhost:8080/"
        },
        "outputId": "b2b6364f-d537-4eb0-934e-4a184260f064"
      },
      "source": [
        "# You can enter your calculations here. \n",
        "out1 = torch.matmul(net1.layers[0].weight, x)\n",
        "out2 = torch.matmul(net1.layers[1].weight, out1)\n",
        "print(out2)"
      ],
      "execution_count": 12,
      "outputs": [
        {
          "output_type": "stream",
          "text": [
            "tensor([-0.3705], grad_fn=<MvBackward>)\n"
          ],
          "name": "stdout"
        }
      ]
    },
    {
      "cell_type": "code",
      "metadata": {
        "id": "QY9btQJ-46B8"
      },
      "source": [
        ""
      ],
      "execution_count": null,
      "outputs": []
    },
    {
      "cell_type": "markdown",
      "metadata": {
        "id": "V93t3NfX-GXa"
      },
      "source": [
        "### Multi Layer Perceptron Forward Pass with bias term\n",
        "If we add the bias term can you calculate to forward pass now ?"
      ]
    },
    {
      "cell_type": "code",
      "metadata": {
        "id": "70hdVk_X8YBN"
      },
      "source": [
        "class MLP(nn.Module):\n",
        "    def __init__(self):\n",
        "        super(MLP, self).__init__()\n",
        "        self.layers = nn.Sequential(\n",
        "            nn.Linear(2, 2, bias = True), \n",
        "            #nn.ReLU(),\n",
        "            nn.Linear(2, 1, bias = True))\n",
        "    def forward(self, x):\n",
        "        return self.layers(x)"
      ],
      "execution_count": 14,
      "outputs": []
    },
    {
      "cell_type": "code",
      "metadata": {
        "id": "2soIoUFA7wro"
      },
      "source": [
        "net2 = MLP()\n",
        "with torch.no_grad(): out = net2(x)"
      ],
      "execution_count": 15,
      "outputs": []
    },
    {
      "cell_type": "code",
      "metadata": {
        "colab": {
          "base_uri": "https://localhost:8080/"
        },
        "id": "e10yvyLP6wvG",
        "outputId": "56a1927e-8d26-4245-878d-f45f8f6897af"
      },
      "source": [
        "print(f'Input to net : {x}')\n",
        "print('-'*50)\n",
        "print(f'Layer 0 parameters {net2.layers[0].weight}')\n",
        "print(f'Layer 0 bias       {net2.layers[0].bias}\\n')\n",
        "print(f'Layer 1 parameters {net2.layers[1].weight}')\n",
        "print(f'Layer 1 bias       {net2.layers[1].bias}\\n')\n",
        "print('-'*50)\n",
        "print(f'Output : {out}')"
      ],
      "execution_count": 16,
      "outputs": [
        {
          "output_type": "stream",
          "text": [
            "Input to net : tensor([0.9391, 0.4167])\n",
            "--------------------------------------------------\n",
            "Layer 0 parameters Parameter containing:\n",
            "tensor([[ 0.3026, -0.3286],\n",
            "        [ 0.6938, -0.2992]], requires_grad=True)\n",
            "Layer 0 bias       Parameter containing:\n",
            "tensor([0.5303, 0.0084], requires_grad=True)\n",
            "\n",
            "Layer 1 parameters Parameter containing:\n",
            "tensor([[-0.3725,  0.3635]], requires_grad=True)\n",
            "Layer 1 bias       Parameter containing:\n",
            "tensor([-0.3753], requires_grad=True)\n",
            "\n",
            "--------------------------------------------------\n",
            "Output : tensor([-0.4332])\n"
          ],
          "name": "stdout"
        }
      ]
    },
    {
      "cell_type": "code",
      "metadata": {
        "id": "ldn3WAhJ-eQC"
      },
      "source": [
        "# You can enter your calculations here. "
      ],
      "execution_count": 17,
      "outputs": []
    },
    {
      "cell_type": "code",
      "metadata": {
        "id": "Td2diDZd_Xqw",
        "colab": {
          "base_uri": "https://localhost:8080/"
        },
        "outputId": "22009295-eb0c-42fd-8f2e-a925b79c691d"
      },
      "source": [
        "out1 = torch.matmul(net2.layers[0].weight, x) + net2.layers[0].bias\n",
        "out2 = torch.matmul(net2.layers[1].weight, out1) + net2.layers[1].bias\n",
        "print(out2)"
      ],
      "execution_count": 18,
      "outputs": [
        {
          "output_type": "stream",
          "text": [
            "tensor([-0.4332], grad_fn=<AddBackward0>)\n"
          ],
          "name": "stdout"
        }
      ]
    },
    {
      "cell_type": "markdown",
      "metadata": {
        "id": "pdyAZWJlAacs"
      },
      "source": [
        "### Multi Layer Perceptron Forward Pass with Relu\n",
        "If we add a RELU activation, can you calculate the forward pass now ?"
      ]
    },
    {
      "cell_type": "code",
      "metadata": {
        "id": "q19RFTcXAdHf"
      },
      "source": [
        "class MLP(nn.Module):\n",
        "    def __init__(self):\n",
        "        super(MLP, self).__init__()\n",
        "        self.layers = nn.Sequential(\n",
        "            nn.Linear(2, 2, bias = True), \n",
        "            nn.ReLU(),\n",
        "            nn.Linear(2, 1, bias = True))\n",
        "    def forward(self, x):\n",
        "        return self.layers(x)"
      ],
      "execution_count": 22,
      "outputs": []
    },
    {
      "cell_type": "code",
      "metadata": {
        "id": "rnqYBt_5Ahsq"
      },
      "source": [
        "net3 = MLP()\n",
        "with torch.no_grad(): out = net3(x)"
      ],
      "execution_count": 23,
      "outputs": []
    },
    {
      "cell_type": "code",
      "metadata": {
        "colab": {
          "base_uri": "https://localhost:8080/"
        },
        "id": "sHKF-GjpAlPq",
        "outputId": "879e75b0-5708-4f6b-f315-c54a1c5184ea"
      },
      "source": [
        "print(f'Input to net : {x}')\n",
        "print('-'*50)\n",
        "print(f'Layer 0 parameters {net3.layers[0].weight}')\n",
        "print(f'Layer 0 bias       {net3.layers[0].bias}\\n')\n",
        "print(f'Layer 1 parameters {net3.layers[2].weight}')\n",
        "print(f'Layer 1 bias       {net3.layers[2].bias}\\n')\n",
        "print('-'*50)\n",
        "print(f'Output : {out}')"
      ],
      "execution_count": 24,
      "outputs": [
        {
          "output_type": "stream",
          "text": [
            "Input to net : tensor([0.9391, 0.4167])\n",
            "--------------------------------------------------\n",
            "Layer 0 parameters Parameter containing:\n",
            "tensor([[ 0.2080, -0.2042],\n",
            "        [-0.0775, -0.6798]], requires_grad=True)\n",
            "Layer 0 bias       Parameter containing:\n",
            "tensor([-0.3371,  0.3837], requires_grad=True)\n",
            "\n",
            "Layer 1 parameters Parameter containing:\n",
            "tensor([[-0.1719,  0.7043]], requires_grad=True)\n",
            "Layer 1 bias       Parameter containing:\n",
            "tensor([0.5668], requires_grad=True)\n",
            "\n",
            "--------------------------------------------------\n",
            "Output : tensor([0.5863])\n"
          ],
          "name": "stdout"
        }
      ]
    },
    {
      "cell_type": "code",
      "metadata": {
        "id": "N0iWatl0Avxi",
        "colab": {
          "base_uri": "https://localhost:8080/"
        },
        "outputId": "3a5de2d8-746a-4f70-b3ad-a4d7329e617c"
      },
      "source": [
        "# You can enter your calculations here. \n",
        "m = nn.ReLU()\n",
        "out1 = torch.matmul(net3.layers[0].weight, x) + net3.layers[0].bias\n",
        "out2 = m(out1)\n",
        "out3 = torch.matmul(net3.layers[2].weight, out2) + net3.layers[2].bias\n",
        "print(out2, out3)"
      ],
      "execution_count": 32,
      "outputs": [
        {
          "output_type": "stream",
          "text": [
            "tensor([0.0000, 0.0276], grad_fn=<ReluBackward0>) tensor([0.5863], grad_fn=<AddBackward0>)\n"
          ],
          "name": "stdout"
        }
      ]
    },
    {
      "cell_type": "code",
      "metadata": {
        "id": "N9YODgWaeN1Q"
      },
      "source": [
        ""
      ],
      "execution_count": null,
      "outputs": []
    }
  ]
}